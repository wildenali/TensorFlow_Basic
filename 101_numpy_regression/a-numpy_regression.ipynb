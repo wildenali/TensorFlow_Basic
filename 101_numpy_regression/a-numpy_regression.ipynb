{
 "cells": [
  {
   "cell_type": "code",
   "execution_count": 1,
   "metadata": {},
   "outputs": [],
   "source": [
    "import numpy as np\n",
    "import matplotlib.pyplot as plt"
   ]
  },
  {
   "cell_type": "markdown",
   "metadata": {},
   "source": [
    "## Linear Regression\n",
    "\n",
    "predict next data using purely numpy package\n",
    "<br/>\n",
    "f(x) = 3*x\n",
    "<br/>\n",
    "<br/>\n",
    "<img src=\"linear_equation.png\">"
   ]
  },
  {
   "cell_type": "code",
   "execution_count": 2,
   "metadata": {},
   "outputs": [],
   "source": [
    "#create dataset\n",
    "x = np.array([2,3,4,5,6],dtype=\"float32\")\n",
    "y = np.array([6,9,12,15,18],dtype=\"float32\")\n",
    "w = 0.0"
   ]
  },
  {
   "cell_type": "code",
   "execution_count": 3,
   "metadata": {},
   "outputs": [],
   "source": [
    "def forward_pass(x : np.array, w : float)->np.array:\n",
    "    return x*w"
   ]
  },
  {
   "cell_type": "code",
   "execution_count": 4,
   "metadata": {},
   "outputs": [],
   "source": [
    "# Menghitung loss\n",
    "# loss = 1/n(y_predicted-2)^2\n",
    "def compute_loss(y:np.array , y_predicted:np.array)->np.array:\n",
    "    return ((y-y_predicted)**2).mean()"
   ]
  },
  {
   "cell_type": "code",
   "execution_count": 5,
   "metadata": {},
   "outputs": [],
   "source": [
    "def calculate_gradien(x:np.array, y_predicted:np.array, y:np.array)->np.array:\n",
    "    return np.dot(2*x, y_predicted-y).mean()"
   ]
  },
  {
   "cell_type": "code",
   "execution_count": 6,
   "metadata": {},
   "outputs": [],
   "source": [
    "# learning rate\n",
    "n_iters = 20\n",
    "learning_rate = 0.01"
   ]
  },
  {
   "cell_type": "code",
   "execution_count": 9,
   "metadata": {},
   "outputs": [
    {
     "name": "stdout",
     "output_type": "stream",
     "text": [
      "weight: 3.028\n",
      "weight: 2.978\n",
      "weight: 3.018\n",
      "weight: 2.986\n",
      "weight: 3.011\n",
      "weight: 2.991\n",
      "weight: 3.007\n",
      "weight: 2.994\n",
      "weight: 3.005\n",
      "weight: 2.996\n",
      "weight: 3.003\n",
      "weight: 2.998\n",
      "weight: 3.002\n",
      "weight: 2.998\n",
      "weight: 3.001\n",
      "weight: 2.999\n",
      "weight: 3.001\n",
      "weight: 2.999\n",
      "weight: 3.000\n",
      "weight: 3.000\n"
     ]
    }
   ],
   "source": [
    "list_loss=[]\n",
    "for epoch in range(n_iters):\n",
    "    y_predicted = forward_pass(x, w)\n",
    "    loss = compute_loss(y, y_predicted)\n",
    "    dw = calculate_gradien(x, y_predicted, y)\n",
    "    w -= learning_rate * dw\n",
    "    list_loss.append(loss)\n",
    "    print(f'weight: {w:.3f}')"
   ]
  },
  {
   "cell_type": "code",
   "execution_count": 8,
   "metadata": {},
   "outputs": [
    {
     "data": {
      "image/png": "[encoded data removed]",
      "text/plain": [
       "<Figure size 432x288 with 1 Axes>"
      ]
     },
     "metadata": {
      "needs_background": "light"
     },
     "output_type": "display_data"
    }
   ],
   "source": [
    "plt.plot(list_loss)\n",
    "plt.show()"
   ]
  }
 ],
 "metadata": {
  "interpreter": {
   "hash": "31f2aee4e71d21fbe5cf8b01ff0e069b9275f58929596ceb00d14d90e3e16cd6"
  },
  "kernelspec": {
   "display_name": "Python 3.6.9 64-bit",
   "language": "python",
   "name": "python3"
  },
  "language_info": {
   "codemirror_mode": {
    "name": "ipython",
    "version": 3
   },
   "file_extension": ".py",
   "mimetype": "text/x-python",
   "name": "python",
   "nbconvert_exporter": "python",
   "pygments_lexer": "ipython3",
   "version": "3.6.9"
  },
  "orig_nbformat": 4
 },
 "nbformat": 4,
 "nbformat_minor": 2
}
