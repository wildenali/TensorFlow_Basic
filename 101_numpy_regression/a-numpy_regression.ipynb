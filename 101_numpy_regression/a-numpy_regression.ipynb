{
 "cells": [
  {
   "cell_type": "code",
   "execution_count": 1,
   "metadata": {},
   "outputs": [],
   "source": [
    "import numpy as np\n",
    "import matplotlib.pyplot as plt"
   ]
  },
  {
   "cell_type": "markdown",
   "metadata": {},
   "source": [
    "## Linear Regression\n",
    "\n",
    "predict next data using purely numpy package\n",
    "<br/>\n",
    "f(x) = 3*x\n",
    "<br/>\n",
    "<br/>\n",
    "<img src=\"linear_equation.png\">"
   ]
  },
  {
   "cell_type": "code",
   "execution_count": 2,
   "metadata": {},
   "outputs": [],
   "source": [
    "#create dataset\n",
    "x = np.array([2,3,4,5,6],dtype=\"float32\")\n",
    "y = np.array([6,9,12,15,18],dtype=\"float32\")\n",
    "w = 0.0"
   ]
  },
  {
   "cell_type": "code",
   "execution_count": 3,
   "metadata": {},
   "outputs": [],
   "source": [
    "def forward_pass(x:np.array, w:float)->np.array:\n",
    "    y_predicted = x*w\n",
    "    return y_predicted"
   ]
  },
  {
   "cell_type": "code",
   "execution_count": 4,
   "metadata": {},
   "outputs": [],
   "source": [
    "# Menghitung loss\n",
    "# loss = 1/n(y_predicted-2)^2\n",
    "def compute_loss(y_predicted:np.array, y:np.array)->np.array:\n",
    "    loss = ((y_predicted-y)**2).mean()\n",
    "    return loss"
   ]
  },
  {
   "cell_type": "code",
   "execution_count": 5,
   "metadata": {},
   "outputs": [],
   "source": [
    "def calculate_gradien(y_predicted:np.array, y:np.array, x:np.array)->np.array:\n",
    "    dj = np.dot(2*x, (y_predicted)).mean()\n",
    "    return dj"
   ]
  },
  {
   "cell_type": "code",
   "execution_count": 6,
   "metadata": {},
   "outputs": [],
   "source": [
    "# learning rate\n",
    "n_iters = 20\n",
    "learning_rate = 0.01"
   ]
  },
  {
   "cell_type": "code",
   "execution_count": 8,
   "metadata": {},
   "outputs": [
    {
     "name": "stdout",
     "output_type": "stream",
     "text": [
      "weight: -69.300\n",
      "weight: -72.600\n",
      "weight: -75.900\n",
      "weight: -79.200\n",
      "weight: -82.500\n",
      "weight: -85.800\n",
      "weight: -89.100\n",
      "weight: -92.400\n",
      "weight: -95.700\n",
      "weight: -99.000\n",
      "weight: -102.300\n",
      "weight: -105.600\n",
      "weight: -108.900\n",
      "weight: -112.200\n",
      "weight: -115.500\n",
      "weight: -118.800\n",
      "weight: -122.100\n",
      "weight: -125.400\n",
      "weight: -128.700\n",
      "weight: -132.000\n"
     ]
    }
   ],
   "source": [
    "list_loss=[]\n",
    "for epoch in range(n_iters):\n",
    "    y_predicted = forward_pass(x, w)\n",
    "    loss = compute_loss(y, y_predicted)\n",
    "    dw = calculate_gradien(x, y_predicted, y)\n",
    "    w -= learning_rate * dw\n",
    "    list_loss.append(loss)\n",
    "    print(f'weight: {w:.3f}')"
   ]
  },
  {
   "cell_type": "code",
   "execution_count": 9,
   "metadata": {},
   "outputs": [
    {
     "data": {
      "image/png": "[encoded data removed]",
      "text/plain": [
       "<Figure size 432x288 with 1 Axes>"
      ]
     },
     "metadata": {
      "needs_background": "light"
     },
     "output_type": "display_data"
    }
   ],
   "source": [
    "plt.plot(list_loss)\n",
    "plt.show()"
   ]
  }
 ],
 "metadata": {
  "interpreter": {
   "hash": "31f2aee4e71d21fbe5cf8b01ff0e069b9275f58929596ceb00d14d90e3e16cd6"
  },
  "kernelspec": {
   "display_name": "Python 3.6.9 64-bit",
   "language": "python",
   "name": "python3"
  },
  "language_info": {
   "codemirror_mode": {
    "name": "ipython",
    "version": 3
   },
   "file_extension": ".py",
   "mimetype": "text/x-python",
   "name": "python",
   "nbconvert_exporter": "python",
   "pygments_lexer": "ipython3",
   "version": "3.6.9"
  },
  "orig_nbformat": 4
 },
 "nbformat": 4,
 "nbformat_minor": 2
}
