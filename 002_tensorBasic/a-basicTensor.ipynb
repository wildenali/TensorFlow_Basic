{
  "nbformat": 4,
  "nbformat_minor": 0,
  "metadata": {
    "colab": {
      "name": "002_tensorBasic.ipynb",
      "provenance": [],
      "collapsed_sections": [],
      "authorship_tag": "ABX9TyPqNfLwq0yVEZydZ3WYExP7",
      "include_colab_link": true
    },
    "kernelspec": {
      "name": "python3",
      "display_name": "Python 3"
    },
    "language_info": {
      "name": "python"
    }
  },
  "cells": [
    {
      "cell_type": "markdown",
      "metadata": {
        "id": "view-in-github",
        "colab_type": "text"
      },
      "source": [
        "<a href=\"https://colab.research.google.com/github/wildenali/TensorFlow_Basic/blob/master/002_tensorBasic/a-basicTensor.ipynb\" target=\"_parent\"><img src=\"https://colab.research.google.com/assets/colab-badge.svg\" alt=\"Open In Colab\"/></a>"
      ]
    },
    {
      "cell_type": "code",
      "execution_count": null,
      "metadata": {
        "id": "0iaD6zbEPFTd"
      },
      "outputs": [],
      "source": [
        "import tensorflow as tf"
      ]
    },
    {
      "cell_type": "code",
      "source": [
        "# Rank 0\n",
        "# Default Name\n",
        "r1 = tf.constant(1, tf.int16)\n",
        "print(r1)"
      ],
      "metadata": {
        "colab": {
          "base_uri": "https://localhost:8080/"
        },
        "id": "EeMyU8bIYyAQ",
        "outputId": "dd604d54-e782-4fab-99f8-5449554b9dab"
      },
      "execution_count": null,
      "outputs": [
        {
          "output_type": "stream",
          "name": "stdout",
          "text": [
            "tf.Tensor(1, shape=(), dtype=int16)\n"
          ]
        }
      ]
    },
    {
      "cell_type": "code",
      "source": [
        "# Named my_scalar\n",
        "r2 = tf.constant(1, tf.int16, name=\"my_scalar\")\n",
        "print(r2)"
      ],
      "metadata": {
        "colab": {
          "base_uri": "https://localhost:8080/"
        },
        "id": "-YRfLF-1Za1n",
        "outputId": "aee3c717-5e75-41a5-ce54-461e0e5ea1e1"
      },
      "execution_count": null,
      "outputs": [
        {
          "output_type": "stream",
          "name": "stdout",
          "text": [
            "tf.Tensor(1, shape=(), dtype=int16)\n"
          ]
        }
      ]
    },
    {
      "cell_type": "code",
      "source": [
        "# Decimal\n",
        "r1_decimal = tf.constant(1.1233, tf.float32)\n",
        "print(r1_decimal)"
      ],
      "metadata": {
        "colab": {
          "base_uri": "https://localhost:8080/"
        },
        "id": "VSrJxa7lZl5h",
        "outputId": "b79f624e-e057-43a7-e97b-a89da5a68beb"
      },
      "execution_count": null,
      "outputs": [
        {
          "output_type": "stream",
          "name": "stdout",
          "text": [
            "tf.Tensor(1.1233, shape=(), dtype=float32)\n"
          ]
        }
      ]
    },
    {
      "cell_type": "code",
      "source": [
        "# Decimal\n",
        "r1_string = tf.constant(\"ini siapa\", tf.string)\n",
        "print(r1_string)"
      ],
      "metadata": {
        "colab": {
          "base_uri": "https://localhost:8080/"
        },
        "id": "g69MW8qwZuX4",
        "outputId": "3f01a1b9-1272-489d-fe8f-116a907aced8"
      },
      "execution_count": null,
      "outputs": [
        {
          "output_type": "stream",
          "name": "stdout",
          "text": [
            "tf.Tensor(b'ini siapa', shape=(), dtype=string)\n"
          ]
        }
      ]
    },
    {
      "cell_type": "code",
      "source": [
        "# Rank 1\n",
        "r1_vector = tf.constant([1,3,5], tf.int16)\n",
        "print(r1_vector)\n",
        "\n",
        "r2_boolean = tf.constant([True, True, False], tf.bool)\n",
        "print(r2_boolean)"
      ],
      "metadata": {
        "colab": {
          "base_uri": "https://localhost:8080/"
        },
        "id": "po-DbaxBaqHr",
        "outputId": "586e07d4-d1bf-478d-aeb3-9d5b0e844886"
      },
      "execution_count": null,
      "outputs": [
        {
          "output_type": "stream",
          "name": "stdout",
          "text": [
            "tf.Tensor([1 3 5], shape=(3,), dtype=int16)\n",
            "tf.Tensor([ True  True False], shape=(3,), dtype=bool)\n"
          ]
        }
      ]
    },
    {
      "cell_type": "code",
      "source": [
        "# Rank 2\n",
        "r2_matrix = tf.constant([[1, 5],\n",
        "                         [3, 4]], tf.int16)\n",
        "print(r2_matrix)"
      ],
      "metadata": {
        "colab": {
          "base_uri": "https://localhost:8080/"
        },
        "id": "PJLtaZ9IboTs",
        "outputId": "052ace36-2f05-46ff-d7c8-05c2b24f7d85"
      },
      "execution_count": null,
      "outputs": [
        {
          "output_type": "stream",
          "name": "stdout",
          "text": [
            "tf.Tensor(\n",
            "[[1 5]\n",
            " [3 4]], shape=(2, 2), dtype=int16)\n"
          ]
        }
      ]
    },
    {
      "cell_type": "code",
      "source": [
        "# Rank 3\n",
        "r3_matrix = tf.constant([[1, 5],\n",
        "                         [3, 4],\n",
        "                         [5, 6]], tf.int16)\n",
        "print(r3_matrix)"
      ],
      "metadata": {
        "colab": {
          "base_uri": "https://localhost:8080/"
        },
        "id": "4UiZ6GWrcMzq",
        "outputId": "6f0f9553-4e56-47a8-cab9-7178d054d801"
      },
      "execution_count": null,
      "outputs": [
        {
          "output_type": "stream",
          "name": "stdout",
          "text": [
            "tf.Tensor(\n",
            "[[1 5]\n",
            " [3 4]\n",
            " [5 6]], shape=(3, 2), dtype=int16)\n"
          ]
        }
      ]
    },
    {
      "cell_type": "code",
      "source": [
        "# Shape of tensor\n",
        "m_shape = tf.constant([[11, 15],\n",
        "                       [31, 41],\n",
        "                       [52, 63]])\n",
        "print(m_shape)\n",
        "print(\"---\")\n",
        "m_shape.shape\n",
        "print(tf.__version__)"
      ],
      "metadata": {
        "colab": {
          "base_uri": "https://localhost:8080/"
        },
        "id": "jZbKrPDzc-Vo",
        "outputId": "0cdbbaaf-04fe-4e4c-ddaa-c9ba529cdde6"
      },
      "execution_count": null,
      "outputs": [
        {
          "output_type": "stream",
          "name": "stdout",
          "text": [
            "tf.Tensor(\n",
            "[[11 15]\n",
            " [31 41]\n",
            " [52 63]], shape=(3, 2), dtype=int32)\n",
            "---\n",
            "2.7.0\n"
          ]
        }
      ]
    },
    {
      "cell_type": "code",
      "source": [
        "# Create a vector of 0\n",
        "print(tf.zeros(10))"
      ],
      "metadata": {
        "colab": {
          "base_uri": "https://localhost:8080/"
        },
        "id": "a-Vx5gH_dPP4",
        "outputId": "dc3a5ea1-7041-49b7-dd73-5978b93963e6"
      },
      "execution_count": null,
      "outputs": [
        {
          "output_type": "stream",
          "name": "stdout",
          "text": [
            "tf.Tensor([0. 0. 0. 0. 0. 0. 0. 0. 0. 0.], shape=(10,), dtype=float32)\n"
          ]
        }
      ]
    },
    {
      "cell_type": "code",
      "source": [
        "# Create a vector of 1\n",
        "print(tf.ones([10, 10]))\n",
        "print(tf.ones(m_shape.shape[0]))\n",
        "print(tf.ones(m_shape.shape[1]))\n",
        "print(tf.ones(m_shape.shape))"
      ],
      "metadata": {
        "colab": {
          "base_uri": "https://localhost:8080/"
        },
        "id": "3vFIoXT2eSiK",
        "outputId": "ab82c978-fc4f-4570-a65a-db8c439d747a"
      },
      "execution_count": null,
      "outputs": [
        {
          "output_type": "stream",
          "name": "stdout",
          "text": [
            "tf.Tensor(\n",
            "[[1. 1. 1. 1. 1. 1. 1. 1. 1. 1.]\n",
            " [1. 1. 1. 1. 1. 1. 1. 1. 1. 1.]\n",
            " [1. 1. 1. 1. 1. 1. 1. 1. 1. 1.]\n",
            " [1. 1. 1. 1. 1. 1. 1. 1. 1. 1.]\n",
            " [1. 1. 1. 1. 1. 1. 1. 1. 1. 1.]\n",
            " [1. 1. 1. 1. 1. 1. 1. 1. 1. 1.]\n",
            " [1. 1. 1. 1. 1. 1. 1. 1. 1. 1.]\n",
            " [1. 1. 1. 1. 1. 1. 1. 1. 1. 1.]\n",
            " [1. 1. 1. 1. 1. 1. 1. 1. 1. 1.]\n",
            " [1. 1. 1. 1. 1. 1. 1. 1. 1. 1.]], shape=(10, 10), dtype=float32)\n",
            "tf.Tensor([1. 1. 1.], shape=(3,), dtype=float32)\n",
            "tf.Tensor([1. 1.], shape=(2,), dtype=float32)\n",
            "tf.Tensor(\n",
            "[[1. 1.]\n",
            " [1. 1.]\n",
            " [1. 1.]], shape=(3, 2), dtype=float32)\n"
          ]
        }
      ]
    },
    {
      "cell_type": "code",
      "source": [
        "# Type of data\n",
        "print(m_shape.dtype)"
      ],
      "metadata": {
        "colab": {
          "base_uri": "https://localhost:8080/"
        },
        "id": "-jRCF147e3MR",
        "outputId": "8abcc411-979b-44b4-ada1-25b9737deecd"
      },
      "execution_count": null,
      "outputs": [
        {
          "output_type": "stream",
          "name": "stdout",
          "text": [
            "<dtype: 'int32'>\n"
          ]
        }
      ]
    },
    {
      "cell_type": "code",
      "source": [
        "# Change type of data\n",
        "type_float = tf.constant(3.123456789, tf.float32)\n",
        "type_int = tf.cast(type_float, dtype=tf.int32)\n",
        "print(type_float.dtype)\n",
        "print(type_int.dtype)"
      ],
      "metadata": {
        "colab": {
          "base_uri": "https://localhost:8080/"
        },
        "id": "c929y0ZTfFJ5",
        "outputId": "946ab9fc-758e-4be2-cbbc-b615423398ee"
      },
      "execution_count": null,
      "outputs": [
        {
          "output_type": "stream",
          "name": "stdout",
          "text": [
            "<dtype: 'float32'>\n",
            "<dtype: 'int32'>\n"
          ]
        }
      ]
    }
  ]
}