{
 "cells": [
  {
   "cell_type": "markdown",
   "metadata": {},
   "source": [
    "download https://www.kaggle.com/mahmoudreda55/satellite-image-classification?select=data\n",
    "\n",
    "- menggunakan arsitektu vgg16"
   ]
  },
  {
   "cell_type": "code",
   "execution_count": 1,
   "metadata": {},
   "outputs": [],
   "source": [
    "import tensorflow as tf\n",
    "import cv2\n",
    "import numpy as np\n",
    "import matplotlib.pyplot as plt\n",
    "import os\n",
    "from sklearn.model_selection import train_test_split\n",
    "from sklearn.preprocessing import OneHotEncoder"
   ]
  },
  {
   "cell_type": "code",
   "execution_count": 2,
   "metadata": {},
   "outputs": [],
   "source": [
    "img_size = 128\n",
    "def preprocess(image:np.array)->np.array:\n",
    "    img = cv2.cvtColor(image, cv2.COLOR_BGR2RGB)\n",
    "    img = cv2.resize(img, (img_size, img_size))      # untuk CNN karena bentuknya tetap, jadi perlu disamakan dulu bentuknya\n",
    "    img = np.array(img)\n",
    "    # img = img.astype(\"float32\")\n",
    "    img = img/255.0\n",
    "    return img"
   ]
  },
  {
   "cell_type": "code",
   "execution_count": 3,
   "metadata": {},
   "outputs": [
    {
     "name": "stdout",
     "output_type": "stream",
     "text": [
      "desert\n",
      "cloudy\n",
      "green_area\n",
      "water\n"
     ]
    }
   ],
   "source": [
    "path = \"images\"\n",
    "x = []\n",
    "y = []\n",
    "for label in os.listdir(path):\n",
    "    print(label)\n",
    "    subdir = os.path.join(path, label)\n",
    "    for fileName in os.listdir(subdir):\n",
    "        # print(fileName)     # untuk nama\n",
    "        # print(os.path.join(subdir, fileName))   # ini untuk mendapatkan path lengkapnya\n",
    "        filePath = os.path.join(subdir, fileName)\n",
    "        img = cv2.imread(filePath)\n",
    "        img = preprocess(img)\n",
    "        x.append(img)\n",
    "        y.append(label)\n"
   ]
  },
  {
   "cell_type": "code",
   "execution_count": 4,
   "metadata": {},
   "outputs": [
    {
     "data": {
      "text/plain": [
       "((5631, 128, 128, 3), (5631,))"
      ]
     },
     "execution_count": 4,
     "metadata": {},
     "output_type": "execute_result"
    }
   ],
   "source": [
    "x = np.array(x)\n",
    "y = np.array(y)\n",
    "x.shape, y.shape\n",
    "\n",
    "# ((5631, 128, 128, 3), (5631,))\n",
    "# 5631      -> jumlah gambar\n",
    "# 128, 128  -> size gambar\n",
    "# 3         -> channel rgb"
   ]
  },
  {
   "cell_type": "code",
   "execution_count": 5,
   "metadata": {},
   "outputs": [
    {
     "data": {
      "text/plain": [
       "array(['desert', 'desert', 'desert', 'desert', 'desert', 'desert',\n",
       "       'desert', 'desert', 'desert', 'desert'], dtype='<U10')"
      ]
     },
     "execution_count": 5,
     "metadata": {},
     "output_type": "execute_result"
    }
   ],
   "source": [
    "y[:10]"
   ]
  },
  {
   "cell_type": "code",
   "execution_count": 6,
   "metadata": {},
   "outputs": [
    {
     "data": {
      "text/plain": [
       "'water'"
      ]
     },
     "execution_count": 6,
     "metadata": {},
     "output_type": "execute_result"
    }
   ],
   "source": [
    "y[-1]"
   ]
  },
  {
   "cell_type": "code",
   "execution_count": 7,
   "metadata": {},
   "outputs": [
    {
     "data": {
      "text/plain": [
       "array(['desert', 'desert', 'desert', 'desert', 'desert', 'desert',\n",
       "       'desert', 'desert', 'desert', 'desert'], dtype='<U10')"
      ]
     },
     "execution_count": 7,
     "metadata": {},
     "output_type": "execute_result"
    }
   ],
   "source": [
    "y[:10]"
   ]
  },
  {
   "cell_type": "markdown",
   "metadata": {},
   "source": [
    "karena y masih dalam bentuk, harus di encode dulu"
   ]
  },
  {
   "cell_type": "code",
   "execution_count": 8,
   "metadata": {},
   "outputs": [],
   "source": [
    "ec = OneHotEncoder()\n",
    "y = ec.fit_transform(y.reshape(-1,1)).toarray()"
   ]
  },
  {
   "cell_type": "code",
   "execution_count": 9,
   "metadata": {},
   "outputs": [
    {
     "data": {
      "text/plain": [
       "array([0., 0., 0., 1.])"
      ]
     },
     "execution_count": 9,
     "metadata": {},
     "output_type": "execute_result"
    }
   ],
   "source": [
    "y[-1]"
   ]
  },
  {
   "cell_type": "code",
   "execution_count": 10,
   "metadata": {},
   "outputs": [
    {
     "data": {
      "text/plain": [
       "(5631, 4)"
      ]
     },
     "execution_count": 10,
     "metadata": {},
     "output_type": "execute_result"
    }
   ],
   "source": [
    "y.shape\n",
    "# (5631, 4) -> jadi 4 dimensi"
   ]
  },
  {
   "cell_type": "code",
   "execution_count": 11,
   "metadata": {},
   "outputs": [
    {
     "name": "stdout",
     "output_type": "stream",
     "text": [
      "4\n"
     ]
    }
   ],
   "source": [
    "n_class = y.shape[-1]   # ambil kelasnya ada berapa\n",
    "print(n_class)"
   ]
  },
  {
   "cell_type": "code",
   "execution_count": 12,
   "metadata": {},
   "outputs": [],
   "source": [
    "lr = 0.01           # learning rate\n",
    "n_epochs = 50       # banyaknya percobaan, 50\n",
    "batch_size = 32     # diitearsi setiap satu eksekusi langsung di ambil 32 gambar, awalnya 32 gambar"
   ]
  },
  {
   "cell_type": "code",
   "execution_count": 13,
   "metadata": {},
   "outputs": [],
   "source": [
    "model = tf.keras.Sequential()"
   ]
  },
  {
   "cell_type": "markdown",
   "metadata": {},
   "source": [
    "ikutin vgg16"
   ]
  },
  {
   "cell_type": "code",
   "execution_count": 14,
   "metadata": {},
   "outputs": [],
   "source": [
    "# # Convolutional 1\n",
    "# model.add(tf.keras.layers.Conv2D(input_shape=(img_size, img_size, 3), filters=32, kernel_size=(3,3), padding='same', activation='relu'))\n",
    "# model.add(tf.keras.layers.Conv2D(filters=32, kernel_size=(3,3), padding='same', activation='relu'))\n",
    "# model.add(tf.keras.layers.MaxPool2D(pool_size=(2,2), strides=(2,2)))\n",
    "\n",
    "# # Convolutional 2\n",
    "# model.add(tf.keras.layers.Conv2D(filters=32, kernel_size=(3,3), padding='same', activation='relu'))\n",
    "# model.add(tf.keras.layers.Conv2D(filters=32, kernel_size=(3,3), padding='same', activation='relu'))\n",
    "# model.add(tf.keras.layers.MaxPool2D(pool_size=(2,2), strides=(2,2)))\n",
    "\n",
    "# # Convolutional 3\n",
    "# model.add(tf.keras.layers.Conv2D(filters=32, kernel_size=(3,3), padding='same', activation='relu'))\n",
    "# model.add(tf.keras.layers.Conv2D(filters=32, kernel_size=(3,3), padding='same', activation='relu'))\n",
    "# model.add(tf.keras.layers.Conv2D(filters=32, kernel_size=(3,3), padding='same', activation='relu'))\n",
    "# model.add(tf.keras.layers.MaxPool2D(pool_size=(2,2), strides=(2,2)))\n",
    "\n",
    "# # masuk ke fully connected layer\n",
    "# model.add(tf.keras.layers.Flatten())\n",
    "# model.add(tf.keras.layers.Dense(units=100, activation='relu'))\n",
    "# model.add(tf.keras.layers.Dense(units=100, activation='relu'))\n",
    "# model.add(tf.keras.layers.Dense(units=n_class, activation='softmax'))\n",
    "\n",
    "# model.summary()"
   ]
  },
  {
   "cell_type": "code",
   "execution_count": 15,
   "metadata": {},
   "outputs": [
    {
     "name": "stdout",
     "output_type": "stream",
     "text": [
      "Model: \"sequential\"\n",
      "_________________________________________________________________\n",
      "Layer (type)                 Output Shape              Param #   \n",
      "=================================================================\n",
      "conv2d (Conv2D)              (None, 128, 128, 32)      896       \n",
      "_________________________________________________________________\n",
      "conv2d_1 (Conv2D)            (None, 128, 128, 32)      9248      \n",
      "_________________________________________________________________\n",
      "max_pooling2d (MaxPooling2D) (None, 64, 64, 32)        0         \n",
      "_________________________________________________________________\n",
      "conv2d_2 (Conv2D)            (None, 64, 64, 64)        18496     \n",
      "_________________________________________________________________\n",
      "conv2d_3 (Conv2D)            (None, 64, 64, 64)        36928     \n",
      "_________________________________________________________________\n",
      "max_pooling2d_1 (MaxPooling2 (None, 32, 32, 64)        0         \n",
      "_________________________________________________________________\n",
      "conv2d_4 (Conv2D)            (None, 32, 32, 128)       73856     \n",
      "_________________________________________________________________\n",
      "conv2d_5 (Conv2D)            (None, 32, 32, 128)       147584    \n",
      "_________________________________________________________________\n",
      "conv2d_6 (Conv2D)            (None, 32, 32, 128)       147584    \n",
      "_________________________________________________________________\n",
      "max_pooling2d_2 (MaxPooling2 (None, 16, 16, 128)       0         \n",
      "_________________________________________________________________\n",
      "flatten (Flatten)            (None, 32768)             0         \n",
      "_________________________________________________________________\n",
      "dense (Dense)                (None, 100)               3276900   \n",
      "_________________________________________________________________\n",
      "dense_1 (Dense)              (None, 100)               10100     \n",
      "_________________________________________________________________\n",
      "dense_2 (Dense)              (None, 4)                 404       \n",
      "=================================================================\n",
      "Total params: 3,721,996\n",
      "Trainable params: 3,721,996\n",
      "Non-trainable params: 0\n",
      "_________________________________________________________________\n"
     ]
    }
   ],
   "source": [
    "# Convolutional 1\n",
    "model.add(tf.keras.layers.Conv2D(input_shape=(img_size, img_size, 3), filters=32, kernel_size=(3,3), padding='same', activation='relu'))\n",
    "model.add(tf.keras.layers.Conv2D(filters=32, kernel_size=(3,3), padding='same', activation='relu'))\n",
    "model.add(tf.keras.layers.MaxPool2D(pool_size=(2,2), strides=(2,2)))\n",
    "\n",
    "# Convolutional 2\n",
    "model.add(tf.keras.layers.Conv2D(filters=64, kernel_size=(3,3), padding='same', activation='relu'))\n",
    "model.add(tf.keras.layers.Conv2D(filters=64, kernel_size=(3,3), padding='same', activation='relu'))\n",
    "model.add(tf.keras.layers.MaxPool2D(pool_size=(2,2), strides=(2,2)))\n",
    "\n",
    "# Convolutional 3\n",
    "model.add(tf.keras.layers.Conv2D(filters=128, kernel_size=(3,3), padding='same', activation='relu'))\n",
    "model.add(tf.keras.layers.Conv2D(filters=128, kernel_size=(3,3), padding='same', activation='relu'))\n",
    "model.add(tf.keras.layers.Conv2D(filters=128, kernel_size=(3,3), padding='same', activation='relu'))\n",
    "model.add(tf.keras.layers.MaxPool2D(pool_size=(2,2), strides=(2,2)))\n",
    "\n",
    "# masuk ke fully connected layer\n",
    "model.add(tf.keras.layers.Flatten())\n",
    "model.add(tf.keras.layers.Dense(units=100, activation='relu'))\n",
    "model.add(tf.keras.layers.Dense(units=100, activation='relu'))\n",
    "model.add(tf.keras.layers.Dense(units=n_class, activation='softmax'))\n",
    "\n",
    "model.summary()"
   ]
  },
  {
   "cell_type": "code",
   "execution_count": 16,
   "metadata": {},
   "outputs": [],
   "source": [
    "opt = tf.keras.optimizers.SGD(learning_rate=lr)\n",
    "model.compile(optimizer=opt, loss='categorical_crossentropy', metrics=['accuracy'])"
   ]
  },
  {
   "cell_type": "code",
   "execution_count": 17,
   "metadata": {},
   "outputs": [
    {
     "name": "stdout",
     "output_type": "stream",
     "text": [
      "Epoch 1/50\n",
      "176/176 [==============================] - 340s 2s/step - loss: 1.1454 - accuracy: 0.4125\n",
      "Epoch 2/50\n",
      "176/176 [==============================] - 343s 2s/step - loss: 0.7553 - accuracy: 0.5660\n",
      "Epoch 3/50\n",
      "176/176 [==============================] - 345s 2s/step - loss: 0.6656 - accuracy: 0.6438\n",
      "Epoch 4/50\n",
      "176/176 [==============================] - 344s 2s/step - loss: 0.6260 - accuracy: 0.6592\n",
      "Epoch 5/50\n",
      "176/176 [==============================] - 346s 2s/step - loss: 0.5890 - accuracy: 0.6969\n",
      "Epoch 6/50\n",
      "176/176 [==============================] - 348s 2s/step - loss: 0.5133 - accuracy: 0.7381\n",
      "Epoch 7/50\n",
      "176/176 [==============================] - 350s 2s/step - loss: 0.5090 - accuracy: 0.7379\n",
      "Epoch 8/50\n",
      "176/176 [==============================] - 347s 2s/step - loss: 0.5003 - accuracy: 0.7567\n",
      "Epoch 9/50\n",
      "176/176 [==============================] - 342s 2s/step - loss: 0.4976 - accuracy: 0.7608\n",
      "Epoch 10/50\n",
      "176/176 [==============================] - 342s 2s/step - loss: 0.4725 - accuracy: 0.7810\n",
      "Epoch 11/50\n",
      "176/176 [==============================] - 342s 2s/step - loss: 0.4455 - accuracy: 0.7915\n",
      "Epoch 12/50\n",
      "176/176 [==============================] - 342s 2s/step - loss: 0.4715 - accuracy: 0.7498\n",
      "Epoch 13/50\n",
      "176/176 [==============================] - 342s 2s/step - loss: 0.4374 - accuracy: 0.7926\n",
      "Epoch 14/50\n",
      "176/176 [==============================] - 343s 2s/step - loss: 0.4016 - accuracy: 0.8242\n",
      "Epoch 15/50\n",
      "176/176 [==============================] - 343s 2s/step - loss: 0.3831 - accuracy: 0.8309\n",
      "Epoch 16/50\n",
      "176/176 [==============================] - 343s 2s/step - loss: 0.3959 - accuracy: 0.8226\n",
      "Epoch 17/50\n",
      "176/176 [==============================] - 343s 2s/step - loss: 0.3527 - accuracy: 0.8530\n",
      "Epoch 18/50\n",
      "176/176 [==============================] - 344s 2s/step - loss: 0.3307 - accuracy: 0.8657\n",
      "Epoch 19/50\n",
      "176/176 [==============================] - 26723s 153s/step - loss: 0.3179 - accuracy: 0.8691\n",
      "Epoch 20/50\n",
      "176/176 [==============================] - 327s 2s/step - loss: 0.3255 - accuracy: 0.8627\n",
      "Epoch 21/50\n",
      "176/176 [==============================] - 307s 2s/step - loss: 0.2939 - accuracy: 0.8800\n",
      "Epoch 22/50\n",
      "176/176 [==============================] - 310s 2s/step - loss: 0.3003 - accuracy: 0.8785\n",
      "Epoch 23/50\n",
      "176/176 [==============================] - 310s 2s/step - loss: 0.3135 - accuracy: 0.8753\n",
      "Epoch 24/50\n",
      "176/176 [==============================] - 313s 2s/step - loss: 0.2923 - accuracy: 0.8817\n",
      "Epoch 25/50\n",
      "176/176 [==============================] - 312s 2s/step - loss: 0.2941 - accuracy: 0.8792\n",
      "Epoch 26/50\n",
      "176/176 [==============================] - 314s 2s/step - loss: 0.2782 - accuracy: 0.8837\n",
      "Epoch 27/50\n",
      "176/176 [==============================] - 313s 2s/step - loss: 0.2883 - accuracy: 0.8833\n",
      "Epoch 28/50\n",
      "176/176 [==============================] - 316s 2s/step - loss: 0.2526 - accuracy: 0.8981\n",
      "Epoch 29/50\n",
      "176/176 [==============================] - 314s 2s/step - loss: 0.2942 - accuracy: 0.8876\n",
      "Epoch 30/50\n",
      "176/176 [==============================] - 323s 2s/step - loss: 0.2488 - accuracy: 0.9004\n",
      "Epoch 31/50\n",
      "176/176 [==============================] - 313s 2s/step - loss: 0.2488 - accuracy: 0.8990\n",
      "Epoch 32/50\n",
      "176/176 [==============================] - 329s 2s/step - loss: 0.2429 - accuracy: 0.9037\n",
      "Epoch 33/50\n",
      "176/176 [==============================] - 340s 2s/step - loss: 0.2609 - accuracy: 0.8981\n",
      "Epoch 34/50\n",
      "176/176 [==============================] - 336s 2s/step - loss: 0.2369 - accuracy: 0.9078\n",
      "Epoch 35/50\n",
      "176/176 [==============================] - 4033s 23s/step - loss: 0.2491 - accuracy: 0.9052\n",
      "Epoch 36/50\n",
      "176/176 [==============================] - 301s 2s/step - loss: 0.2447 - accuracy: 0.9020\n",
      "Epoch 37/50\n",
      "176/176 [==============================] - 301s 2s/step - loss: 0.2295 - accuracy: 0.9082\n",
      "Epoch 38/50\n",
      "176/176 [==============================] - 302s 2s/step - loss: 0.2337 - accuracy: 0.9114\n",
      "Epoch 39/50\n",
      "176/176 [==============================] - 307s 2s/step - loss: 0.2401 - accuracy: 0.9089\n",
      "Epoch 40/50\n",
      "176/176 [==============================] - 300s 2s/step - loss: 0.2318 - accuracy: 0.9075\n",
      "Epoch 41/50\n",
      "176/176 [==============================] - 302s 2s/step - loss: 0.2276 - accuracy: 0.9116\n",
      "Epoch 42/50\n",
      "176/176 [==============================] - 8995s 51s/step - loss: 0.2174 - accuracy: 0.9142\n",
      "Epoch 43/50\n",
      "176/176 [==============================] - 303s 2s/step - loss: 0.2200 - accuracy: 0.9117\n",
      "Epoch 44/50\n",
      "176/176 [==============================] - 307s 2s/step - loss: 0.2085 - accuracy: 0.9185\n",
      "Epoch 45/50\n",
      "176/176 [==============================] - 329s 2s/step - loss: 0.2114 - accuracy: 0.9188\n",
      "Epoch 46/50\n",
      "176/176 [==============================] - 312s 2s/step - loss: 0.2113 - accuracy: 0.9178\n",
      "Epoch 47/50\n",
      "176/176 [==============================] - 330s 2s/step - loss: 0.2154 - accuracy: 0.9165\n",
      "Epoch 48/50\n",
      "176/176 [==============================] - 340s 2s/step - loss: 0.2283 - accuracy: 0.9126\n",
      "Epoch 49/50\n",
      "176/176 [==============================] - 302s 2s/step - loss: 0.2117 - accuracy: 0.9204\n",
      "Epoch 50/50\n",
      "176/176 [==============================] - 311s 2s/step - loss: 0.2023 - accuracy: 0.9245\n"
     ]
    }
   ],
   "source": [
    "hist = model.fit(x, y, verbose=1, epochs=n_epochs, batch_size=batch_size)"
   ]
  },
  {
   "cell_type": "code",
   "execution_count": 76,
   "metadata": {},
   "outputs": [
    {
     "name": "stdout",
     "output_type": "stream",
     "text": [
      "Model Saved!\n"
     ]
    }
   ],
   "source": [
    "# assign location\n",
    "path_model='a-satellite_image_classification_model/model.h5'\n",
    "path_model_weight='a-satellite_image_classification_model/weights.h5'\n",
    " \n",
    "# save\n",
    "model.save(path_model)\n",
    "model.save_weights(path_model_weight)\n",
    "\n",
    "print('Model Saved!')"
   ]
  },
  {
   "cell_type": "code",
   "execution_count": 74,
   "metadata": {},
   "outputs": [
    {
     "data": {
      "image/png": "[encoded data removed]",
      "text/plain": [
       "<Figure size 432x288 with 1 Axes>"
      ]
     },
     "metadata": {
      "needs_background": "light"
     },
     "output_type": "display_data"
    }
   ],
   "source": [
    "plt.plot(hist.history[\"accuracy\"],'b')\n",
    "plt.plot(hist.history[\"loss\"],'r')\n",
    "plt.show()"
   ]
  },
  {
   "cell_type": "markdown",
   "metadata": {},
   "source": [
    "## Test the model"
   ]
  },
  {
   "cell_type": "markdown",
   "metadata": {},
   "source": []
  },
  {
   "cell_type": "code",
   "execution_count": 68,
   "metadata": {},
   "outputs": [
    {
     "data": {
      "text/plain": [
       "<matplotlib.image.AxesImage at 0x7fe16861cef0>"
      ]
     },
     "execution_count": 68,
     "metadata": {},
     "output_type": "execute_result"
    },
    {
     "data": {
      "image/png": "[encoded data removed]",
      "text/plain": [
       "<Figure size 432x288 with 1 Axes>"
      ]
     },
     "metadata": {
      "needs_background": "light"
     },
     "output_type": "display_data"
    }
   ],
   "source": [
    "# train_12.jpg\n",
    "img = cv2.imread('images/cloudy/train_12.jpg')\n",
    "plt.imshow(img)"
   ]
  },
  {
   "cell_type": "code",
   "execution_count": 69,
   "metadata": {},
   "outputs": [
    {
     "data": {
      "text/plain": [
       "(256, 256, 3)"
      ]
     },
     "execution_count": 69,
     "metadata": {},
     "output_type": "execute_result"
    }
   ],
   "source": [
    "img.shape"
   ]
  },
  {
   "cell_type": "code",
   "execution_count": 70,
   "metadata": {},
   "outputs": [
    {
     "data": {
      "text/plain": [
       "(1, 128, 128, 3)"
      ]
     },
     "execution_count": 70,
     "metadata": {},
     "output_type": "execute_result"
    }
   ],
   "source": [
    "# karena bentuknya 3 dimensi, tpi model kita 4 dimensi, maka harus di ubah dulu\n",
    "img = preprocess(img)\n",
    "img = np.expand_dims(img, axis=0)\n",
    "img.shape\n",
    "# disini udah 4 dimensi"
   ]
  },
  {
   "cell_type": "code",
   "execution_count": 71,
   "metadata": {},
   "outputs": [
    {
     "data": {
      "text/plain": [
       "array([[9.9917173e-01, 8.1464503e-04, 3.1611878e-09, 1.3638593e-05]],\n",
       "      dtype=float32)"
      ]
     },
     "execution_count": 71,
     "metadata": {},
     "output_type": "execute_result"
    }
   ],
   "source": [
    "y_pred = model.predict(img) # bentuk datanya \n",
    "y_pred"
   ]
  },
  {
   "cell_type": "code",
   "execution_count": 72,
   "metadata": {},
   "outputs": [
    {
     "data": {
      "text/plain": [
       "array([['cloudy']], dtype='<U10')"
      ]
     },
     "execution_count": 72,
     "metadata": {},
     "output_type": "execute_result"
    }
   ],
   "source": [
    "y_pred_dec = ec.inverse_transform(y_pred)\n",
    "y_pred_dec"
   ]
  },
  {
   "cell_type": "code",
   "execution_count": null,
   "metadata": {},
   "outputs": [],
   "source": []
  }
 ],
 "metadata": {
  "interpreter": {
   "hash": "b1b3734842578fbc73605458e0f722c7c651d3462d6266e9f9ed8ddcbaf8a258"
  },
  "kernelspec": {
   "display_name": "Python 3.6.9 ('env': venv)",
   "language": "python",
   "name": "python3"
  },
  "language_info": {
   "codemirror_mode": {
    "name": "ipython",
    "version": 3
   },
   "file_extension": ".py",
   "mimetype": "text/x-python",
   "name": "python",
   "nbconvert_exporter": "python",
   "pygments_lexer": "ipython3",
   "version": "3.6.9"
  },
  "orig_nbformat": 4
 },
 "nbformat": 4,
 "nbformat_minor": 2
}
