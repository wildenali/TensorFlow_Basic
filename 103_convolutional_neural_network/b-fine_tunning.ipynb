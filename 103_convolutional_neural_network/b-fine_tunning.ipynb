{
 "cells": [
  {
   "cell_type": "markdown",
   "metadata": {},
   "source": [
    "https://github.com/dzakarya/machine_learning/blob/master/CNN/finetune.png"
   ]
  },
  {
   "cell_type": "code",
   "execution_count": 1,
   "metadata": {},
   "outputs": [],
   "source": [
    "import tensorflow as tf\n",
    "from sklearn import datasets\n",
    "from sklearn.model_selection import train_test_split\n",
    "from sklearn.preprocessing import StandardScaler,OneHotEncoder\n",
    "import numpy as np\n",
    "import matplotlib.pyplot as plt\n",
    "import tensorflow_datasets as tfds\n",
    "import pathlib"
   ]
  },
  {
   "cell_type": "code",
   "execution_count": 2,
   "metadata": {},
   "outputs": [
    {
     "name": "stdout",
     "output_type": "stream",
     "text": [
      "/home/dewatic/.keras/datasets/flower_photos\n"
     ]
    }
   ],
   "source": [
    "dataset_url = \"https://storage.googleapis.com/download.tensorflow.org/example_images/flower_photos.tgz\"\n",
    "data_dir = tf.keras.utils.get_file(origin=dataset_url,\n",
    "                                   fname='flower_photos',\n",
    "                                   untar=True)\n",
    "data_dir = pathlib.Path(data_dir)\n",
    "print(data_dir)"
   ]
  },
  {
   "cell_type": "code",
   "execution_count": 3,
   "metadata": {},
   "outputs": [],
   "source": [
    "datagen = tf.keras.preprocessing.image.ImageDataGenerator(rescale=1/255.0, validation_split=0.4, dtype=\"float32\")"
   ]
  },
  {
   "cell_type": "code",
   "execution_count": 4,
   "metadata": {},
   "outputs": [
    {
     "name": "stdout",
     "output_type": "stream",
     "text": [
      "Found 2204 images belonging to 5 classes.\n",
      "Found 1466 images belonging to 5 classes.\n",
      "{'daisy': 0, 'dandelion': 1, 'roses': 2, 'sunflowers': 3, 'tulips': 4}\n"
     ]
    }
   ],
   "source": [
    "b_size = 4\n",
    "img_size = 100\n",
    "trainset = datagen.flow_from_directory(data_dir,target_size=(img_size,img_size),color_mode='rgb',subset=\"training\",batch_size=b_size,class_mode=\"categorical\")\n",
    "valset = datagen.flow_from_directory(data_dir,target_size=(img_size,img_size),color_mode='rgb',subset=\"validation\",batch_size=b_size,class_mode=\"categorical\")\n",
    "print(trainset.class_indices)"
   ]
  },
  {
   "cell_type": "code",
   "execution_count": 5,
   "metadata": {},
   "outputs": [],
   "source": [
    "vgg_model = tf.keras.applications.VGG16(weights=\"imagenet\",include_top=False, input_shape = (img_size,img_size,3))"
   ]
  },
  {
   "cell_type": "code",
   "execution_count": 6,
   "metadata": {},
   "outputs": [
    {
     "name": "stdout",
     "output_type": "stream",
     "text": [
      "<keras.engine.input_layer.InputLayer object at 0x7efffede97f0>\n",
      "<keras.layers.convolutional.Conv2D object at 0x7efffe45e390>\n",
      "<keras.layers.convolutional.Conv2D object at 0x7efffe45e8d0>\n",
      "<keras.layers.pooling.MaxPooling2D object at 0x7efffe427ef0>\n",
      "<keras.layers.convolutional.Conv2D object at 0x7efffe3dd080>\n",
      "<keras.layers.convolutional.Conv2D object at 0x7efffe3ddd68>\n",
      "<keras.layers.pooling.MaxPooling2D object at 0x7efffe3d5198>\n",
      "<keras.layers.convolutional.Conv2D object at 0x7efffe3ea358>\n",
      "<keras.layers.convolutional.Conv2D object at 0x7efffe3ef080>\n",
      "<keras.layers.convolutional.Conv2D object at 0x7efffe3efa58>\n",
      "<keras.layers.pooling.MaxPooling2D object at 0x7efffe3e2fd0>\n",
      "<keras.layers.convolutional.Conv2D object at 0x7efffe3f9f28>\n",
      "<keras.layers.convolutional.Conv2D object at 0x7efffe3fdc50>\n",
      "<keras.layers.convolutional.Conv2D object at 0x7efffe3e2898>\n",
      "<keras.layers.pooling.MaxPooling2D object at 0x7efffe4059e8>\n",
      "<keras.layers.convolutional.Conv2D object at 0x7efffe409b38>\n",
      "<keras.layers.convolutional.Conv2D object at 0x7efffe409748>\n",
      "<keras.layers.convolutional.Conv2D object at 0x7efffe3ef630>\n",
      "<keras.layers.pooling.MaxPooling2D object at 0x7efffe3965f8>\n"
     ]
    }
   ],
   "source": [
    "for layer in vgg_model.layers:\n",
    "    layer.trainable = False\n",
    "    print(layer)"
   ]
  },
  {
   "cell_type": "code",
   "execution_count": 7,
   "metadata": {},
   "outputs": [
    {
     "name": "stdout",
     "output_type": "stream",
     "text": [
      "Model: \"vgg16\"\n",
      "_________________________________________________________________\n",
      "Layer (type)                 Output Shape              Param #   \n",
      "=================================================================\n",
      "input_1 (InputLayer)         [(None, 100, 100, 3)]     0         \n",
      "_________________________________________________________________\n",
      "block1_conv1 (Conv2D)        (None, 100, 100, 64)      1792      \n",
      "_________________________________________________________________\n",
      "block1_conv2 (Conv2D)        (None, 100, 100, 64)      36928     \n",
      "_________________________________________________________________\n",
      "block1_pool (MaxPooling2D)   (None, 50, 50, 64)        0         \n",
      "_________________________________________________________________\n",
      "block2_conv1 (Conv2D)        (None, 50, 50, 128)       73856     \n",
      "_________________________________________________________________\n",
      "block2_conv2 (Conv2D)        (None, 50, 50, 128)       147584    \n",
      "_________________________________________________________________\n",
      "block2_pool (MaxPooling2D)   (None, 25, 25, 128)       0         \n",
      "_________________________________________________________________\n",
      "block3_conv1 (Conv2D)        (None, 25, 25, 256)       295168    \n",
      "_________________________________________________________________\n",
      "block3_conv2 (Conv2D)        (None, 25, 25, 256)       590080    \n",
      "_________________________________________________________________\n",
      "block3_conv3 (Conv2D)        (None, 25, 25, 256)       590080    \n",
      "_________________________________________________________________\n",
      "block3_pool (MaxPooling2D)   (None, 12, 12, 256)       0         \n",
      "_________________________________________________________________\n",
      "block4_conv1 (Conv2D)        (None, 12, 12, 512)       1180160   \n",
      "_________________________________________________________________\n",
      "block4_conv2 (Conv2D)        (None, 12, 12, 512)       2359808   \n",
      "_________________________________________________________________\n",
      "block4_conv3 (Conv2D)        (None, 12, 12, 512)       2359808   \n",
      "_________________________________________________________________\n",
      "block4_pool (MaxPooling2D)   (None, 6, 6, 512)         0         \n",
      "_________________________________________________________________\n",
      "block5_conv1 (Conv2D)        (None, 6, 6, 512)         2359808   \n",
      "_________________________________________________________________\n",
      "block5_conv2 (Conv2D)        (None, 6, 6, 512)         2359808   \n",
      "_________________________________________________________________\n",
      "block5_conv3 (Conv2D)        (None, 6, 6, 512)         2359808   \n",
      "_________________________________________________________________\n",
      "block5_pool (MaxPooling2D)   (None, 3, 3, 512)         0         \n",
      "=================================================================\n",
      "Total params: 14,714,688\n",
      "Trainable params: 0\n",
      "Non-trainable params: 14,714,688\n",
      "_________________________________________________________________\n"
     ]
    }
   ],
   "source": [
    "vgg_model.summary()"
   ]
  },
  {
   "cell_type": "code",
   "execution_count": 19,
   "metadata": {},
   "outputs": [
    {
     "name": "stdout",
     "output_type": "stream",
     "text": [
      "Model: \"model_3\"\n",
      "_________________________________________________________________\n",
      "Layer (type)                 Output Shape              Param #   \n",
      "=================================================================\n",
      "input_1 (InputLayer)         [(None, 100, 100, 3)]     0         \n",
      "_________________________________________________________________\n",
      "block1_conv1 (Conv2D)        (None, 100, 100, 64)      1792      \n",
      "_________________________________________________________________\n",
      "block1_conv2 (Conv2D)        (None, 100, 100, 64)      36928     \n",
      "_________________________________________________________________\n",
      "block1_pool (MaxPooling2D)   (None, 50, 50, 64)        0         \n",
      "_________________________________________________________________\n",
      "block2_conv1 (Conv2D)        (None, 50, 50, 128)       73856     \n",
      "_________________________________________________________________\n",
      "block2_conv2 (Conv2D)        (None, 50, 50, 128)       147584    \n",
      "_________________________________________________________________\n",
      "block2_pool (MaxPooling2D)   (None, 25, 25, 128)       0         \n",
      "_________________________________________________________________\n",
      "block3_conv1 (Conv2D)        (None, 25, 25, 256)       295168    \n",
      "_________________________________________________________________\n",
      "block3_conv2 (Conv2D)        (None, 25, 25, 256)       590080    \n",
      "_________________________________________________________________\n",
      "block3_conv3 (Conv2D)        (None, 25, 25, 256)       590080    \n",
      "_________________________________________________________________\n",
      "block3_pool (MaxPooling2D)   (None, 12, 12, 256)       0         \n",
      "_________________________________________________________________\n",
      "block4_conv1 (Conv2D)        (None, 12, 12, 512)       1180160   \n",
      "_________________________________________________________________\n",
      "block4_conv2 (Conv2D)        (None, 12, 12, 512)       2359808   \n",
      "_________________________________________________________________\n",
      "block4_conv3 (Conv2D)        (None, 12, 12, 512)       2359808   \n",
      "_________________________________________________________________\n",
      "block4_pool (MaxPooling2D)   (None, 6, 6, 512)         0         \n",
      "_________________________________________________________________\n",
      "block5_conv1 (Conv2D)        (None, 6, 6, 512)         2359808   \n",
      "_________________________________________________________________\n",
      "block5_conv2 (Conv2D)        (None, 6, 6, 512)         2359808   \n",
      "_________________________________________________________________\n",
      "block5_conv3 (Conv2D)        (None, 6, 6, 512)         2359808   \n",
      "_________________________________________________________________\n",
      "block5_pool (MaxPooling2D)   (None, 3, 3, 512)         0         \n",
      "_________________________________________________________________\n",
      "flatten_3 (Flatten)          (None, 4608)              0         \n",
      "_________________________________________________________________\n",
      "dense_9 (Dense)              (None, 100)               460900    \n",
      "_________________________________________________________________\n",
      "dense_10 (Dense)             (None, 100)               10100     \n",
      "_________________________________________________________________\n",
      "dense_11 (Dense)             (None, 5)                 505       \n",
      "=================================================================\n",
      "Total params: 15,186,193\n",
      "Trainable params: 471,505\n",
      "Non-trainable params: 14,714,688\n",
      "_________________________________________________________________\n"
     ]
    }
   ],
   "source": [
    "x = vgg_model.output\n",
    "x = tf.keras.layers.Flatten()(x)\n",
    "x = tf.keras.layers.Dense(100, activation=\"relu\")(x)\n",
    "x = tf.keras.layers.Dense(100, activation=\"relu\")(x)\n",
    "x = tf.keras.layers.Dense(5, activation='softmax')(x)\n",
    "transfered_model = tf.keras.Model(inputs = vgg_model.input, outputs = x)\n",
    "transfered_model.summary()"
   ]
  },
  {
   "cell_type": "code",
   "execution_count": 20,
   "metadata": {},
   "outputs": [],
   "source": [
    "optimizer = tf.keras.optimizers.Adam(learning_rate=0.01)\n",
    "transfered_model.compile(optimizer=optimizer, loss = \"categorical_crossentropy\", metrics=[\"accuracy\"])"
   ]
  },
  {
   "cell_type": "code",
   "execution_count": 22,
   "metadata": {},
   "outputs": [
    {
     "name": "stdout",
     "output_type": "stream",
     "text": [
      "Epoch 1/10\n",
      "551/551 [==============================] - 34s 61ms/step - loss: 0.1652 - accuracy: 0.9592 - val_loss: 5.5635 - val_accuracy: 0.7094\n",
      "Epoch 2/10\n",
      "551/551 [==============================] - 34s 62ms/step - loss: 0.1663 - accuracy: 0.9592 - val_loss: 5.6978 - val_accuracy: 0.7108\n",
      "Epoch 3/10\n",
      "551/551 [==============================] - 35s 63ms/step - loss: 0.1670 - accuracy: 0.9592 - val_loss: 6.0585 - val_accuracy: 0.7094\n",
      "Epoch 4/10\n",
      "551/551 [==============================] - 35s 63ms/step - loss: 0.1663 - accuracy: 0.9592 - val_loss: 6.6398 - val_accuracy: 0.7101\n",
      "Epoch 5/10\n",
      "551/551 [==============================] - 35s 63ms/step - loss: 0.2679 - accuracy: 0.9369 - val_loss: 5.5858 - val_accuracy: 0.6937\n",
      "Epoch 6/10\n",
      "551/551 [==============================] - 34s 62ms/step - loss: 0.3343 - accuracy: 0.9301 - val_loss: 6.4993 - val_accuracy: 0.7026\n",
      "Epoch 7/10\n",
      "551/551 [==============================] - 34s 62ms/step - loss: 0.2282 - accuracy: 0.9378 - val_loss: 5.4161 - val_accuracy: 0.6876\n",
      "Epoch 8/10\n",
      "551/551 [==============================] - 34s 62ms/step - loss: 0.2496 - accuracy: 0.9347 - val_loss: 6.0947 - val_accuracy: 0.6883\n",
      "Epoch 9/10\n",
      "551/551 [==============================] - 34s 62ms/step - loss: 0.2033 - accuracy: 0.9478 - val_loss: 5.7751 - val_accuracy: 0.6855\n",
      "Epoch 10/10\n",
      "551/551 [==============================] - 34s 62ms/step - loss: 0.2162 - accuracy: 0.9487 - val_loss: 4.9390 - val_accuracy: 0.6992\n"
     ]
    },
    {
     "data": {
      "text/plain": [
       "<keras.callbacks.History at 0x7efffca35390>"
      ]
     },
     "execution_count": 22,
     "metadata": {},
     "output_type": "execute_result"
    }
   ],
   "source": [
    "transfered_model.fit(trainset,verbose=1,validation_data=valset,batch_size=32,epochs=10)"
   ]
  },
  {
   "cell_type": "code",
   "execution_count": null,
   "metadata": {},
   "outputs": [],
   "source": []
  }
 ],
 "metadata": {
  "interpreter": {
   "hash": "31f2aee4e71d21fbe5cf8b01ff0e069b9275f58929596ceb00d14d90e3e16cd6"
  },
  "kernelspec": {
   "display_name": "env",
   "language": "python",
   "name": "env"
  },
  "language_info": {
   "codemirror_mode": {
    "name": "ipython",
    "version": 3
   },
   "file_extension": ".py",
   "mimetype": "text/x-python",
   "name": "python",
   "nbconvert_exporter": "python",
   "pygments_lexer": "ipython3",
   "version": "3.6.9"
  },
  "orig_nbformat": 4
 },
 "nbformat": 4,
 "nbformat_minor": 2
}
