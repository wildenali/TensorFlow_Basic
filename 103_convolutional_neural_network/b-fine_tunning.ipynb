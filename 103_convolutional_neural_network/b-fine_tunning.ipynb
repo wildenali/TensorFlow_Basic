{
 "cells": [
  {
   "cell_type": "markdown",
   "metadata": {},
   "source": [
    "https://github.com/dzakarya/machine_learning/blob/master/CNN/finetune.png"
   ]
  },
  {
   "cell_type": "code",
   "execution_count": 3,
   "metadata": {},
   "outputs": [],
   "source": [
    "import tensorflow as tf\n",
    "from sklearn import datasets\n",
    "from sklearn.model_selection import train_test_split\n",
    "from sklearn.preprocessing import StandardScaler,OneHotEncoder\n",
    "import numpy as np\n",
    "import matplotlib.pyplot as plt\n",
    "import tensorflow_datasets as tfds\n",
    "import pathlib"
   ]
  },
  {
   "cell_type": "code",
   "execution_count": 4,
   "metadata": {},
   "outputs": [
    {
     "name": "stdout",
     "output_type": "stream",
     "text": [
      "Downloading data from https://storage.googleapis.com/download.tensorflow.org/example_images/flower_photos.tgz\n",
      "228818944/228813984 [==============================] - 32s 0us/step\n",
      "228827136/228813984 [==============================] - 32s 0us/step\n",
      "/home/dewatic/.keras/datasets/flower_photos\n"
     ]
    }
   ],
   "source": [
    "dataset_url = \"https://storage.googleapis.com/download.tensorflow.org/example_images/flower_photos.tgz\"\n",
    "data_dir = tf.keras.utils.get_file(origin=dataset_url,\n",
    "                                   fname='flower_photos',\n",
    "                                   untar=True)\n",
    "data_dir = pathlib.Path(data_dir)\n",
    "print(data_dir)"
   ]
  },
  {
   "cell_type": "code",
   "execution_count": 5,
   "metadata": {},
   "outputs": [],
   "source": [
    "datagen = tf.keras.preprocessing.image.ImageDataGenerator(rescale=1/255.0, validation_split=0.4, dtype=\"float32\")"
   ]
  },
  {
   "cell_type": "code",
   "execution_count": 6,
   "metadata": {},
   "outputs": [
    {
     "name": "stdout",
     "output_type": "stream",
     "text": [
      "Found 2204 images belonging to 5 classes.\n",
      "Found 1466 images belonging to 5 classes.\n",
      "{'daisy': 0, 'dandelion': 1, 'roses': 2, 'sunflowers': 3, 'tulips': 4}\n"
     ]
    }
   ],
   "source": [
    "b_size = 4\n",
    "img_size = 100\n",
    "trainset = datagen.flow_from_directory(data_dir,target_size=(img_size,img_size),color_mode='rgb',subset=\"training\",batch_size=b_size,class_mode=\"categorical\")\n",
    "valset = datagen.flow_from_directory(data_dir,target_size=(img_size,img_size),color_mode='rgb',subset=\"validation\",batch_size=b_size,class_mode=\"categorical\")\n",
    "print(trainset.class_indices)"
   ]
  },
  {
   "cell_type": "code",
   "execution_count": 7,
   "metadata": {},
   "outputs": [
    {
     "name": "stdout",
     "output_type": "stream",
     "text": [
      "Downloading data from https://storage.googleapis.com/tensorflow/keras-applications/vgg16/vgg16_weights_tf_dim_ordering_tf_kernels_notop.h5\n",
      "58892288/58889256 [==============================] - 5s 0us/step\n",
      "58900480/58889256 [==============================] - 5s 0us/step\n"
     ]
    }
   ],
   "source": [
    "vgg_model = tf.keras.applications.VGG16(weights=\"imagenet\",include_top=False, input_shape = (img_size,img_size,3))"
   ]
  },
  {
   "cell_type": "code",
   "execution_count": 8,
   "metadata": {},
   "outputs": [
    {
     "name": "stdout",
     "output_type": "stream",
     "text": [
      "<keras.engine.input_layer.InputLayer object at 0x7fe0d7cdee10>\n",
      "<keras.layers.convolutional.Conv2D object at 0x7fe0e4889b38>\n",
      "<keras.layers.convolutional.Conv2D object at 0x7fe0354304a8>\n",
      "<keras.layers.pooling.MaxPooling2D object at 0x7fe0353a0cf8>\n",
      "<keras.layers.convolutional.Conv2D object at 0x7fe0353a9da0>\n",
      "<keras.layers.convolutional.Conv2D object at 0x7fe0353a6828>\n",
      "<keras.layers.pooling.MaxPooling2D object at 0x7fe0353c4dd8>\n",
      "<keras.layers.convolutional.Conv2D object at 0x7fe0353d4fd0>\n",
      "<keras.layers.convolutional.Conv2D object at 0x7fe0353d4cc0>\n",
      "<keras.layers.convolutional.Conv2D object at 0x7fe035362198>\n",
      "<keras.layers.pooling.MaxPooling2D object at 0x7fe035357be0>\n",
      "<keras.layers.convolutional.Conv2D object at 0x7fe035372d30>\n",
      "<keras.layers.convolutional.Conv2D object at 0x7fe035372978>\n",
      "<keras.layers.convolutional.Conv2D object at 0x7fe035381198>\n",
      "<keras.layers.pooling.MaxPooling2D object at 0x7fe03537b9e8>\n",
      "<keras.layers.convolutional.Conv2D object at 0x7fe035393a90>\n",
      "<keras.layers.convolutional.Conv2D object at 0x7fe035393828>\n",
      "<keras.layers.convolutional.Conv2D object at 0x7fe035386fd0>\n",
      "<keras.layers.pooling.MaxPooling2D object at 0x7fe035322518>\n"
     ]
    }
   ],
   "source": [
    "for layer in vgg_model.layers:\n",
    "    layer.trainable = False\n",
    "    print(layer)"
   ]
  },
  {
   "cell_type": "code",
   "execution_count": 9,
   "metadata": {},
   "outputs": [
    {
     "name": "stdout",
     "output_type": "stream",
     "text": [
      "Model: \"vgg16\"\n",
      "_________________________________________________________________\n",
      "Layer (type)                 Output Shape              Param #   \n",
      "=================================================================\n",
      "input_1 (InputLayer)         [(None, 100, 100, 3)]     0         \n",
      "_________________________________________________________________\n",
      "block1_conv1 (Conv2D)        (None, 100, 100, 64)      1792      \n",
      "_________________________________________________________________\n",
      "block1_conv2 (Conv2D)        (None, 100, 100, 64)      36928     \n",
      "_________________________________________________________________\n",
      "block1_pool (MaxPooling2D)   (None, 50, 50, 64)        0         \n",
      "_________________________________________________________________\n",
      "block2_conv1 (Conv2D)        (None, 50, 50, 128)       73856     \n",
      "_________________________________________________________________\n",
      "block2_conv2 (Conv2D)        (None, 50, 50, 128)       147584    \n",
      "_________________________________________________________________\n",
      "block2_pool (MaxPooling2D)   (None, 25, 25, 128)       0         \n",
      "_________________________________________________________________\n",
      "block3_conv1 (Conv2D)        (None, 25, 25, 256)       295168    \n",
      "_________________________________________________________________\n",
      "block3_conv2 (Conv2D)        (None, 25, 25, 256)       590080    \n",
      "_________________________________________________________________\n",
      "block3_conv3 (Conv2D)        (None, 25, 25, 256)       590080    \n",
      "_________________________________________________________________\n",
      "block3_pool (MaxPooling2D)   (None, 12, 12, 256)       0         \n",
      "_________________________________________________________________\n",
      "block4_conv1 (Conv2D)        (None, 12, 12, 512)       1180160   \n",
      "_________________________________________________________________\n",
      "block4_conv2 (Conv2D)        (None, 12, 12, 512)       2359808   \n",
      "_________________________________________________________________\n",
      "block4_conv3 (Conv2D)        (None, 12, 12, 512)       2359808   \n",
      "_________________________________________________________________\n",
      "block4_pool (MaxPooling2D)   (None, 6, 6, 512)         0         \n",
      "_________________________________________________________________\n",
      "block5_conv1 (Conv2D)        (None, 6, 6, 512)         2359808   \n",
      "_________________________________________________________________\n",
      "block5_conv2 (Conv2D)        (None, 6, 6, 512)         2359808   \n",
      "_________________________________________________________________\n",
      "block5_conv3 (Conv2D)        (None, 6, 6, 512)         2359808   \n",
      "_________________________________________________________________\n",
      "block5_pool (MaxPooling2D)   (None, 3, 3, 512)         0         \n",
      "=================================================================\n",
      "Total params: 14,714,688\n",
      "Trainable params: 0\n",
      "Non-trainable params: 14,714,688\n",
      "_________________________________________________________________\n"
     ]
    }
   ],
   "source": [
    "vgg_model.summary()"
   ]
  },
  {
   "cell_type": "code",
   "execution_count": 10,
   "metadata": {},
   "outputs": [
    {
     "name": "stdout",
     "output_type": "stream",
     "text": [
      "Model: \"model\"\n",
      "_________________________________________________________________\n",
      "Layer (type)                 Output Shape              Param #   \n",
      "=================================================================\n",
      "input_1 (InputLayer)         [(None, 100, 100, 3)]     0         \n",
      "_________________________________________________________________\n",
      "block1_conv1 (Conv2D)        (None, 100, 100, 64)      1792      \n",
      "_________________________________________________________________\n",
      "block1_conv2 (Conv2D)        (None, 100, 100, 64)      36928     \n",
      "_________________________________________________________________\n",
      "block1_pool (MaxPooling2D)   (None, 50, 50, 64)        0         \n",
      "_________________________________________________________________\n",
      "block2_conv1 (Conv2D)        (None, 50, 50, 128)       73856     \n",
      "_________________________________________________________________\n",
      "block2_conv2 (Conv2D)        (None, 50, 50, 128)       147584    \n",
      "_________________________________________________________________\n",
      "block2_pool (MaxPooling2D)   (None, 25, 25, 128)       0         \n",
      "_________________________________________________________________\n",
      "block3_conv1 (Conv2D)        (None, 25, 25, 256)       295168    \n",
      "_________________________________________________________________\n",
      "block3_conv2 (Conv2D)        (None, 25, 25, 256)       590080    \n",
      "_________________________________________________________________\n",
      "block3_conv3 (Conv2D)        (None, 25, 25, 256)       590080    \n",
      "_________________________________________________________________\n",
      "block3_pool (MaxPooling2D)   (None, 12, 12, 256)       0         \n",
      "_________________________________________________________________\n",
      "block4_conv1 (Conv2D)        (None, 12, 12, 512)       1180160   \n",
      "_________________________________________________________________\n",
      "block4_conv2 (Conv2D)        (None, 12, 12, 512)       2359808   \n",
      "_________________________________________________________________\n",
      "block4_conv3 (Conv2D)        (None, 12, 12, 512)       2359808   \n",
      "_________________________________________________________________\n",
      "block4_pool (MaxPooling2D)   (None, 6, 6, 512)         0         \n",
      "_________________________________________________________________\n",
      "block5_conv1 (Conv2D)        (None, 6, 6, 512)         2359808   \n",
      "_________________________________________________________________\n",
      "block5_conv2 (Conv2D)        (None, 6, 6, 512)         2359808   \n",
      "_________________________________________________________________\n",
      "block5_conv3 (Conv2D)        (None, 6, 6, 512)         2359808   \n",
      "_________________________________________________________________\n",
      "block5_pool (MaxPooling2D)   (None, 3, 3, 512)         0         \n",
      "_________________________________________________________________\n",
      "flatten (Flatten)            (None, 4608)              0         \n",
      "_________________________________________________________________\n",
      "dense (Dense)                (None, 100)               460900    \n",
      "_________________________________________________________________\n",
      "dense_1 (Dense)              (None, 100)               10100     \n",
      "_________________________________________________________________\n",
      "dense_2 (Dense)              (None, 5)                 505       \n",
      "=================================================================\n",
      "Total params: 15,186,193\n",
      "Trainable params: 471,505\n",
      "Non-trainable params: 14,714,688\n",
      "_________________________________________________________________\n"
     ]
    }
   ],
   "source": [
    "x = vgg_model.output\n",
    "x = tf.keras.layers.Flatten()(x)\n",
    "x = tf.keras.layers.Dense(100, activation=\"relu\")(x)\n",
    "x = tf.keras.layers.Dense(100, activation=\"relu\")(x)\n",
    "x = tf.keras.layers.Dense(5, activation='softmax')(x)\n",
    "transfered_model = tf.keras.Model(inputs = vgg_model.input, outputs = x)\n",
    "transfered_model.summary()"
   ]
  },
  {
   "cell_type": "code",
   "execution_count": 11,
   "metadata": {},
   "outputs": [],
   "source": [
    "optimizer = tf.keras.optimizers.Adam(learning_rate=0.01)\n",
    "transfered_model.compile(optimizer=optimizer, loss = \"categorical_crossentropy\", metrics=[\"accuracy\"])"
   ]
  },
  {
   "cell_type": "code",
   "execution_count": 14,
   "metadata": {},
   "outputs": [
    {
     "name": "stdout",
     "output_type": "stream",
     "text": [
      "Epoch 1/10\n",
      "551/551 [==============================] - 17s 31ms/step - loss: 0.2859 - accuracy: 0.9224 - val_loss: 1.3479 - val_accuracy: 0.7183\n",
      "Epoch 2/10\n",
      "551/551 [==============================] - 17s 32ms/step - loss: 0.2893 - accuracy: 0.9174 - val_loss: 1.2103 - val_accuracy: 0.6903\n",
      "Epoch 3/10\n",
      "551/551 [==============================] - 17s 32ms/step - loss: 0.3945 - accuracy: 0.8979 - val_loss: 1.1673 - val_accuracy: 0.7258\n",
      "Epoch 4/10\n",
      "551/551 [==============================] - 17s 32ms/step - loss: 0.3348 - accuracy: 0.9102 - val_loss: 1.2644 - val_accuracy: 0.7292\n",
      "Epoch 5/10\n",
      "551/551 [==============================] - 18s 32ms/step - loss: 0.2750 - accuracy: 0.9288 - val_loss: 1.5849 - val_accuracy: 0.6937\n",
      "Epoch 6/10\n",
      "551/551 [==============================] - 17s 32ms/step - loss: 0.2673 - accuracy: 0.9310 - val_loss: 1.2671 - val_accuracy: 0.7265\n",
      "Epoch 7/10\n",
      "551/551 [==============================] - 18s 32ms/step - loss: 0.3144 - accuracy: 0.9247 - val_loss: 1.1097 - val_accuracy: 0.6774\n",
      "Epoch 8/10\n",
      "551/551 [==============================] - 18s 32ms/step - loss: 0.2874 - accuracy: 0.9179 - val_loss: 1.2548 - val_accuracy: 0.6971\n",
      "Epoch 9/10\n",
      "551/551 [==============================] - 17s 32ms/step - loss: 0.2934 - accuracy: 0.9215 - val_loss: 1.4871 - val_accuracy: 0.7108\n",
      "Epoch 10/10\n",
      "551/551 [==============================] - 18s 32ms/step - loss: 0.2458 - accuracy: 0.9333 - val_loss: 1.4226 - val_accuracy: 0.6978\n"
     ]
    },
    {
     "data": {
      "text/plain": [
       "<keras.callbacks.History at 0x7fe02c317a58>"
      ]
     },
     "execution_count": 14,
     "metadata": {},
     "output_type": "execute_result"
    }
   ],
   "source": [
    "transfered_model.fit(trainset,verbose=1,validation_data=valset,batch_size=32,epochs=10)"
   ]
  },
  {
   "cell_type": "code",
   "execution_count": null,
   "metadata": {},
   "outputs": [],
   "source": []
  }
 ],
 "metadata": {
  "interpreter": {
   "hash": "31f2aee4e71d21fbe5cf8b01ff0e069b9275f58929596ceb00d14d90e3e16cd6"
  },
  "kernelspec": {
   "display_name": "env",
   "language": "python",
   "name": "env"
  },
  "language_info": {
   "codemirror_mode": {
    "name": "ipython",
    "version": 3
   },
   "file_extension": ".py",
   "mimetype": "text/x-python",
   "name": "python",
   "nbconvert_exporter": "python",
   "pygments_lexer": "ipython3",
   "version": "3.6.9"
  },
  "orig_nbformat": 4
 },
 "nbformat": 4,
 "nbformat_minor": 2
}
