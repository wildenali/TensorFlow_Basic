{
 "cells": [
  {
   "cell_type": "code",
   "execution_count": 2,
   "metadata": {},
   "outputs": [
    {
     "ename": "TypeError",
     "evalue": "'NoneType' object is not subscriptable",
     "output_type": "error",
     "traceback": [
      "\u001b[0;31m---------------------------------------------------------------------------\u001b[0m",
      "\u001b[0;31mTypeError\u001b[0m                                 Traceback (most recent call last)",
      "\u001b[0;32m<ipython-input-2-16152529d526>\u001b[0m in \u001b[0;36m<module>\u001b[0;34m\u001b[0m\n\u001b[1;32m     32\u001b[0m     \u001b[0mret\u001b[0m\u001b[0;34m,\u001b[0m \u001b[0mimg\u001b[0m \u001b[0;34m=\u001b[0m \u001b[0mcap\u001b[0m\u001b[0;34m.\u001b[0m\u001b[0mread\u001b[0m\u001b[0;34m(\u001b[0m\u001b[0;34m)\u001b[0m\u001b[0;34m\u001b[0m\u001b[0;34m\u001b[0m\u001b[0m\n\u001b[1;32m     33\u001b[0m \u001b[0;34m\u001b[0m\u001b[0m\n\u001b[0;32m---> 34\u001b[0;31m     \u001b[0mimg_cropped\u001b[0m \u001b[0;34m=\u001b[0m \u001b[0mimg\u001b[0m\u001b[0;34m[\u001b[0m\u001b[0;36m0\u001b[0m\u001b[0;34m:\u001b[0m\u001b[0;36m360\u001b[0m\u001b[0;34m,\u001b[0m\u001b[0;36m140\u001b[0m\u001b[0;34m:\u001b[0m\u001b[0;36m500\u001b[0m\u001b[0;34m]\u001b[0m\u001b[0;34m\u001b[0m\u001b[0;34m\u001b[0m\u001b[0m\n\u001b[0m\u001b[1;32m     35\u001b[0m     \u001b[0mimg_cropped\u001b[0m \u001b[0;34m=\u001b[0m \u001b[0mcv2\u001b[0m\u001b[0;34m.\u001b[0m\u001b[0mresize\u001b[0m\u001b[0;34m(\u001b[0m\u001b[0mimg_cropped\u001b[0m\u001b[0;34m,\u001b[0m \u001b[0;32mNone\u001b[0m\u001b[0;34m,\u001b[0m \u001b[0mfx\u001b[0m\u001b[0;34m=\u001b[0m\u001b[0;36m1\u001b[0m\u001b[0;34m,\u001b[0m \u001b[0mfy\u001b[0m\u001b[0;34m=\u001b[0m\u001b[0;36m1\u001b[0m\u001b[0;34m)\u001b[0m\u001b[0;34m\u001b[0m\u001b[0;34m\u001b[0m\u001b[0m\n\u001b[1;32m     36\u001b[0m \u001b[0;34m\u001b[0m\u001b[0m\n",
      "\u001b[0;31mTypeError\u001b[0m: 'NoneType' object is not subscriptable"
     ]
    }
   ],
   "source": [
    "import numpy as np\n",
    "import cv2\n",
    "import imutils\n",
    "from datetime import datetime\n",
    "\n",
    "cap = cv2.VideoCapture(0)\n",
    "cap.set(3, 640)\n",
    "cap.set(4, 360)\n",
    "\n",
    "# cap.set(3, 1920)\n",
    "# cap.set(4, 1080)\n",
    "\n",
    "\n",
    "def zoom_center(img, zoom_factor):\n",
    "\n",
    "    y_size = img.shape[0]\n",
    "    x_size = img.shape[1]\n",
    "    \n",
    "    # define new boundaries\n",
    "    x1 = int(0.5*x_size*(1-1/zoom_factor))\n",
    "    x2 = int(x_size-0.5*x_size*(1-1/zoom_factor))\n",
    "    y1 = int(0.5*y_size*(1-1/zoom_factor))\n",
    "    y2 = int(y_size-0.5*y_size*(1-1/zoom_factor))\n",
    "\n",
    "    # first crop image then scale\n",
    "    img_cropped = img[y1:y2,x1:x2]\n",
    "    return cv2.resize(img_cropped, None, fx=zoom_factor, fy=zoom_factor)\n",
    "\n",
    "\n",
    "while (True):\n",
    "    # Capture frame-by-frame\n",
    "    ret, img = cap.read()\n",
    "\n",
    "    img_cropped = img[0:360,140:500]\n",
    "    img_cropped = cv2.resize(img_cropped, None, fx=1, fy=1)\n",
    "\n",
    "    # call our function\n",
    "    # img_zoomed = zoom_center(img, 2)    # the value is zoom value\n",
    "\n",
    "    img_zoomed_and_cropped = zoom_center(img_cropped, 10)    # the value is zoom value\n",
    "\n",
    "\n",
    "    # Draw a rectangle blue, you need top-left corner and bottom-right corner of rectangle\n",
    "    img = cv2.rectangle(img,(140,0),(500,360),(0,255,0),3)\n",
    "    img = cv2.circle(img,(320,180),65,(0,255,0),10)\n",
    "    \n",
    "    \n",
    "\n",
    "    cv2.imshow('ori', img)\n",
    "    cv2.imshow('img_cropped', img_cropped)\n",
    "    cv2.imshow('img_zoomed_and_cropped', img_zoomed_and_cropped)\n",
    "    # cv2.imshow('img_zoomed', img_zoomed)\n",
    "\n",
    "\n",
    "    \n",
    "\n",
    "    # if cv2.waitKey(1) & 0xFF == ord('q'):\n",
    "    #     print(\"Masuk\")\n",
    "    #     break\n",
    "    if cv2.waitKey(1) & 0xFF == ord('w'):\n",
    "        print(\"Masuk 2\")\n",
    "        dt = datetime.now()\n",
    "        cv2.imwrite('opencv'+str(dt)+'.png', img_zoomed_and_cropped)\n",
    "\n",
    "# Ketika semuanya telah selesai, release the capture\n",
    "cap.release()\n",
    "cv2.destroyAllWindows()"
   ]
  }
 ],
 "metadata": {
  "interpreter": {
   "hash": "b1b3734842578fbc73605458e0f722c7c651d3462d6266e9f9ed8ddcbaf8a258"
  },
  "kernelspec": {
   "display_name": "Python 3.6.9 ('env': venv)",
   "language": "python",
   "name": "python3"
  },
  "language_info": {
   "codemirror_mode": {
    "name": "ipython",
    "version": 3
   },
   "file_extension": ".py",
   "mimetype": "text/x-python",
   "name": "python",
   "nbconvert_exporter": "python",
   "pygments_lexer": "ipython3",
   "version": "3.6.9"
  },
  "orig_nbformat": 4
 },
 "nbformat": 4,
 "nbformat_minor": 2
}
